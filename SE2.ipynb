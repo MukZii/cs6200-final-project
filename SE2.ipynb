{
 "cells": [
  {
   "cell_type": "code",
   "execution_count": 148,
   "metadata": {},
   "outputs": [],
   "source": [
    "import pandas as pd\n",
    "import numpy as np\n",
    "from elasticsearch import Elasticsearch\n",
    "from flask import Flask, render_template, request"
   ]
  },
  {
   "cell_type": "markdown",
   "metadata": {},
   "source": [
    "Read the dataset"
   ]
  },
  {
   "cell_type": "code",
   "execution_count": 149,
   "metadata": {},
   "outputs": [],
   "source": [
    "df = pd.read_csv('marketing_sample_for_amazon_com-ecommerce__20200101_20200131__10k_data.csv')"
   ]
  },
  {
   "cell_type": "code",
   "execution_count": 150,
   "metadata": {},
   "outputs": [],
   "source": [
    "# df = df.drop(['Brand Name', 'Asin','Upc Ean Code', 'List Price','Model Number','Quantity','Sku','Product Dimensions','Stock','Product Details','Dimensions','Color','Ingredients','Direction To Use','Size Quantity Variant','Product Description'], axis=1)"
   ]
  },
  {
   "cell_type": "markdown",
   "metadata": {},
   "source": [
    "Create an instance of the Elasticsearch client"
   ]
  },
  {
   "cell_type": "code",
   "execution_count": 151,
   "metadata": {},
   "outputs": [
    {
     "name": "stdout",
     "output_type": "stream",
     "text": [
      "                             Uniq Id  \\\n",
      "0   4c69b61db1fc16e7013b43fc926e502d   \n",
      "1   66d49bbed043f5be260fa9f7fbff5957   \n",
      "2   2c55cae269aebf53838484b0d7dd931a   \n",
      "3   18018b6bc416dab347b1b7db79994afa   \n",
      "4   e04b990e95bf73bbe6a3fa09785d7cd0   \n",
      "5   f8c32a45e507a177992973cf0d46d20c   \n",
      "6   40d3cd16b41970ae6872e914aecf2c8e   \n",
      "7   bc178f33a04dbccefa95b165f8b56830   \n",
      "8   cc2083338a16c3fe2f7895289d2e98fe   \n",
      "9   69828c5570dcdbd1609216d33fbad0db   \n",
      "10  7b0746d8afc8462ba17f8a763d9d5f1e   \n",
      "11  c5f4c94653a3befd8dd16adf2914c04e   \n",
      "12  615ba903c134f439eaf8cdd1678ceb5c   \n",
      "13  82c86a4d24dce5e14303033d7b658b78   \n",
      "14  1ecccb43e0f5c0162218371916ffa553   \n",
      "15  d1ac6d805fcdf75f9e00af611dd03ce4   \n",
      "16  d82015ffbf4cd54b0edfb890002971f3   \n",
      "17  39f1b8a2129315da0288cd058b6b6086   \n",
      "18  4af0833f20a8421788fc04577b0ef1c5   \n",
      "\n",
      "                                         Product Name Brand Name Asin  \\\n",
      "0   DB Longboards CoreFlex Crossbow 41\" Bamboo Fib...        N/A  N/A   \n",
      "1   Electronic Snap Circuits Mini Kits Classpack, ...        N/A  N/A   \n",
      "2   3Doodler Create Flexy 3D Printing Filament Ref...        N/A  N/A   \n",
      "3   Guillow Airplane Design Studio with Travel Cas...        N/A  N/A   \n",
      "4                    Woodstock- Collage 500 pc Puzzle        N/A  N/A   \n",
      "5   Terra by Battat – 4 Dinosaur Toys, Medium – Di...        N/A  N/A   \n",
      "6   Rubie's Child's Pokemon Deluxe Pikachu Costume...        N/A  N/A   \n",
      "7   Hoffmaster 120813 Double-Tipped Triangular Cra...        N/A  N/A   \n",
      "8   ARTSCAPE Etched Glass 24\" x 36\" Window Film, 2...        N/A  N/A   \n",
      "9   Pokemon TCG: Sun and Moon Crimson Invasion Eli...        N/A  N/A   \n",
      "10  Moonlite, 3-Story Bundle for Boys, Includes 3 ...        N/A  N/A   \n",
      "11  DC Cover Girls: Black Canary by Joëlle Jones S...        N/A  N/A   \n",
      "12  Baby Doll Bedding Chevron Window Valance and C...        N/A  N/A   \n",
      "13  LEGO Minecraft Creeper BigFig and Ocelot Chara...        N/A  N/A   \n",
      "14  C&D Visionary DC Comic Originals Flash Logo St...        N/A  N/A   \n",
      "15     The Learning Journey ABC Melody Maker, Primary        N/A  N/A   \n",
      "16  The Complete Common Core: State Standards Kit,...        N/A  N/A   \n",
      "17  Flash Furniture 25''W x 45''L Trapezoid Red HP...        N/A  N/A   \n",
      "18                         Schylling Veterinarian Kit        N/A  N/A   \n",
      "\n",
      "                                             Category Upc Ean Code List Price  \\\n",
      "0   Sports & Outdoors | Outdoor Recreation | Skate...          N/A        N/A   \n",
      "1   Toys & Games | Learning & Education | Science ...          N/A        N/A   \n",
      "2           Toys & Games | Arts & Crafts | Craft Kits          N/A        N/A   \n",
      "3   Toys & Games | Hobbies | Models & Model Kits |...          N/A        N/A   \n",
      "4             Toys & Games | Puzzles | Jigsaw Puzzles          N/A        N/A   \n",
      "5                                                 N/A          N/A        N/A   \n",
      "6   Clothing, Shoes & Jewelry | Costumes & Accesso...          N/A        N/A   \n",
      "7   Toys & Games | Arts & Crafts | Drawing & Paint...          N/A        N/A   \n",
      "8   Home & Kitchen | Home Décor | Window Treatment...          N/A        N/A   \n",
      "9                                                 N/A          N/A        N/A   \n",
      "10                 Toys & Games | Baby & Toddler Toys          N/A        N/A   \n",
      "11  Toys & Games | Collectible Toys | Statues, Bob...          N/A        N/A   \n",
      "12  Baby Products | Nursery | Décor | Window Treat...          N/A        N/A   \n",
      "13       Toys & Games | Building Toys | Building Sets          N/A        N/A   \n",
      "14          Toys & Games | Arts & Crafts | Craft Kits          N/A        N/A   \n",
      "15  Toys & Games | Baby & Toddler Toys | Musical Toys          N/A        N/A   \n",
      "16  Toys & Games | Learning & Education | Flash Cards          N/A        N/A   \n",
      "17  Home & Kitchen | Furniture | Kids' Furniture |...          N/A        N/A   \n",
      "18    Toys & Games | Novelty & Gag Toys | Money Banks          N/A        N/A   \n",
      "\n",
      "   Selling Price Quantity              Model Number  ...  \\\n",
      "0        $237.68      N/A                       N/A  ...   \n",
      "1         $99.95      N/A                     55324  ...   \n",
      "2         $34.99      N/A                       N/A  ...   \n",
      "3         $28.91      N/A                       142  ...   \n",
      "4         $17.49      N/A                     62151  ...   \n",
      "5         $18.66      N/A                   AN4054Z  ...   \n",
      "6         $29.12      N/A                B07BZJM592  ...   \n",
      "7         $97.68      N/A                       N/A  ...   \n",
      "8         $12.99      N/A                   01-0121  ...   \n",
      "9         $38.49      N/A            820650802607-1  ...   \n",
      "10        $18.16      N/A                   6054517  ...   \n",
      "11        $84.61      N/A                 JAN190710  ...   \n",
      "12        $33.92      N/A                       N/A  ...   \n",
      "13        $14.99      N/A                   6288704  ...   \n",
      "14         $4.99      N/A                 S-DC-0140  ...   \n",
      "15        $34.39      N/A                    299142  ...   \n",
      "16        $12.88      N/A                    158173  ...   \n",
      "17       $117.26      N/A  XU-A2448-TRAP-RED-H-P-GG  ...   \n",
      "18         $9.39      N/A                      VKIT  ...   \n",
      "\n",
      "                                          Product Url Stock Product Details  \\\n",
      "0   https://www.amazon.com/DB-Longboards-CoreFlex-...   N/A             N/A   \n",
      "1   https://www.amazon.com/Electronic-Circuits-Cla...   N/A             N/A   \n",
      "2   https://www.amazon.com/3Doodler-Plastic-Innova...   N/A             N/A   \n",
      "3   https://www.amazon.com/Guillow-Airplane-Design...   N/A             N/A   \n",
      "4   https://www.amazon.com/Woodstock-Collage-500-p...   N/A             N/A   \n",
      "5   https://www.amazon.com/Terra-Battat-Dinosaurs-...   N/A             N/A   \n",
      "6   https://www.amazon.com/Rubies-Deluxe-Pikachu-P...   N/A             N/A   \n",
      "7   https://www.amazon.com/Hoffmaster-120813-Doubl...   N/A             N/A   \n",
      "8   https://www.amazon.com/ARTSCAPE-Etched-Glass-W...   N/A             N/A   \n",
      "9   https://www.amazon.com/Pokemon-TCG-Crimson-Inv...   N/A             N/A   \n",
      "10  https://www.amazon.com/Moonlite-3-Story-Bundle...   N/A             N/A   \n",
      "11  https://www.amazon.com/DC-Cover-Girls-Canary-J...   N/A             N/A   \n",
      "12  https://www.amazon.com/Bedding-Chevron-Window-...   N/A             N/A   \n",
      "13  https://www.amazon.com/LEGO-Minecraft-Characte...   N/A             N/A   \n",
      "14  https://www.amazon.com/Visionary-Comic-Origina...   N/A             N/A   \n",
      "15  https://www.amazon.com/Learning-Journey-ABC-Me...   N/A             N/A   \n",
      "16  https://www.amazon.com/Complete-Common-Core-St...   N/A             N/A   \n",
      "17  https://www.amazon.com/Flash-Furniture-Trapezo...   N/A             N/A   \n",
      "18  https://www.amazon.com/Schylling-Veterinarian-...   N/A             N/A   \n",
      "\n",
      "   Dimensions Color Ingredients Direction To Use Is Amazon Seller  \\\n",
      "0         N/A   N/A         N/A              N/A                Y   \n",
      "1         N/A   N/A         N/A              N/A                Y   \n",
      "2         N/A   N/A         N/A              N/A                Y   \n",
      "3         N/A   N/A         N/A              N/A                Y   \n",
      "4         N/A   N/A         N/A              N/A                Y   \n",
      "5         N/A   N/A         N/A              N/A                Y   \n",
      "6         N/A   N/A         N/A              N/A                Y   \n",
      "7         N/A   N/A         N/A              N/A                Y   \n",
      "8         N/A   N/A         N/A              N/A                Y   \n",
      "9         N/A   N/A         N/A              N/A                Y   \n",
      "10        N/A   N/A         N/A              N/A                Y   \n",
      "11        N/A   N/A         N/A              N/A                Y   \n",
      "12        N/A   N/A         N/A              N/A                Y   \n",
      "13        N/A   N/A         N/A              N/A                Y   \n",
      "14        N/A   N/A         N/A              N/A                Y   \n",
      "15        N/A   N/A         N/A              N/A                Y   \n",
      "16        N/A   N/A         N/A              N/A                Y   \n",
      "17        N/A   N/A         N/A              N/A                Y   \n",
      "18        N/A   N/A         N/A              N/A                Y   \n",
      "\n",
      "   Size Quantity Variant Product Description  \n",
      "0                    N/A                 N/A  \n",
      "1                    N/A                 N/A  \n",
      "2                    N/A                 N/A  \n",
      "3                    N/A                 N/A  \n",
      "4                    N/A                 N/A  \n",
      "5                    N/A                 N/A  \n",
      "6                    N/A                 N/A  \n",
      "7                    N/A                 N/A  \n",
      "8                    N/A                 N/A  \n",
      "9                    N/A                 N/A  \n",
      "10                   N/A                 N/A  \n",
      "11                   N/A                 N/A  \n",
      "12                   N/A                 N/A  \n",
      "13                   N/A                 N/A  \n",
      "14                   N/A                 N/A  \n",
      "15                   N/A                 N/A  \n",
      "16                   N/A                 N/A  \n",
      "17                   N/A                 N/A  \n",
      "18                   N/A                 N/A  \n",
      "\n",
      "[19 rows x 28 columns]\n"
     ]
    }
   ],
   "source": [
    "df.fillna(\"N/A\", inplace = True)\n",
    "print(df.head(19))"
   ]
  },
  {
   "cell_type": "code",
   "execution_count": 152,
   "metadata": {},
   "outputs": [],
   "source": [
    "es = Elasticsearch(['http://localhost:9200'],request_timeout=3600)  # 连接本地9200端口"
   ]
  },
  {
   "cell_type": "markdown",
   "metadata": {},
   "source": [
    "Create a mapping for the index"
   ]
  },
  {
   "cell_type": "code",
   "execution_count": 153,
   "metadata": {},
   "outputs": [],
   "source": [
    "doc_mapping = {\n",
    "      \"properties\": {\n",
    "        \"product_name\": {\n",
    "          \"type\": \"text\",\n",
    "          'store': True\n",
    "        },\n",
    "        \"brand_name\": {\n",
    "          \"type\": \"text\",\n",
    "          'store': True\n",
    "        },\n",
    "        \"asin\": {\n",
    "          \"type\": \"text\",\n",
    "          'store': True\n",
    "        },\n",
    "        \"category\": {\n",
    "          \"type\": \"text\",\n",
    "          'store': True\n",
    "        },\n",
    "        \"upc_ean_code\": {\n",
    "          \"type\": \"text\",\n",
    "          'store': True\n",
    "        },\n",
    "        \"list_price\": {\n",
    "          \"type\": \"text\",\n",
    "          'store': True\n",
    "        },\n",
    "        \"selling_price\": {\n",
    "          \"type\": \"text\",\n",
    "          'store': True,\n",
    "        'fielddata':True\n",
    "        },\n",
    "        \"quantity\": {\n",
    "          \"type\": \"text\",\n",
    "          'store': True\n",
    "        },\n",
    "        \"model_number\": {\n",
    "          \"type\": \"text\",\n",
    "          'store': True\n",
    "        },\n",
    "        \"about_product\": {\n",
    "          \"type\": \"text\",\n",
    "          'store': True\n",
    "        },\n",
    "        \"product_specification\": {\n",
    "          \"type\": \"text\",\n",
    "          'store': True\n",
    "        },\n",
    "        \"technical_details\": {\n",
    "          \"type\": \"text\",\n",
    "          'store': True\n",
    "        },\n",
    "        \"shipping_weight\": {\n",
    "          \"type\": \"text\",\n",
    "          'store': True\n",
    "        },\n",
    "        \"product_dimensions\": {\n",
    "          \"type\": \"text\",\n",
    "          'store': True\n",
    "        },\n",
    "        \"image\": {\n",
    "          \"type\": \"text\",\n",
    "          'store': True\n",
    "        },\n",
    "        \"variants\": {\n",
    "          \"type\": \"text\",\n",
    "          'store': True\n",
    "        },\n",
    "        \"sku\": {\n",
    "          \"type\": \"text\",\n",
    "          'store': True\n",
    "        },\n",
    "        \"product_url\": {\n",
    "          \"type\": \"text\",\n",
    "          'store': True\n",
    "        },\n",
    "        \"stock\": {\n",
    "          \"type\": \"text\",\n",
    "          'store': True\n",
    "        },\n",
    "        \"product_details\": {\n",
    "          \"type\": \"text\",\n",
    "          'store': True\n",
    "        },\n",
    "        \"dimensions\": {\n",
    "          \"type\": \"text\",\n",
    "          'store': True\n",
    "        },\n",
    "        \"color\": {\n",
    "          \"type\": \"text\",\n",
    "          'store': True\n",
    "        },\n",
    "        \"ingredients\": {\n",
    "          \"type\": \"text\",\n",
    "          'store': True\n",
    "        },\n",
    "        \"direction_to_use\": {\n",
    "          \"type\": \"text\",\n",
    "          'store': True\n",
    "        },\n",
    "        \"is_amazon_seller\": {\n",
    "          \"type\": \"text\",\n",
    "          'store': True\n",
    "        },\n",
    "        \"size_quantity_variant\": {\n",
    "          \"type\": \"text\",\n",
    "          'store': True\n",
    "        },\n",
    "        \"product_description\": {\n",
    "          \"type\": \"text\",\n",
    "          'store': True\n",
    "        }\n",
    "      }\n",
    "    }\n"
   ]
  },
  {
   "cell_type": "markdown",
   "metadata": {},
   "source": [
    "Create the index"
   ]
  },
  {
   "cell_type": "code",
   "execution_count": 154,
   "metadata": {},
   "outputs": [
    {
     "name": "stdout",
     "output_type": "stream",
     "text": [
      "Index amazon_products exists. removing it...\n"
     ]
    },
    {
     "data": {
      "text/plain": [
       "ObjectApiResponse({'acknowledged': True, 'shards_acknowledged': True, 'index': 'amazon_products'})"
      ]
     },
     "execution_count": 154,
     "metadata": {},
     "output_type": "execute_result"
    }
   ],
   "source": [
    "# es.indices.create(index=\"amazon_products\", body=mapping)\n",
    "if es.indices.exists(index=\"amazon_products\"):\n",
    "    print('Index {} exists. removing it...'.format(\"amazon_products\"))\n",
    "    es.indices.delete(index=\"amazon_products\")\n",
    "\n",
    "es.options(ignore_status=[400]).indices.create(\n",
    "            index=\"amazon_products\",\n",
    "            mappings=doc_mapping)"
   ]
  },
  {
   "cell_type": "markdown",
   "metadata": {},
   "source": [
    "Index the data"
   ]
  },
  {
   "cell_type": "code",
   "execution_count": 155,
   "metadata": {},
   "outputs": [],
   "source": [
    "for index, row in df.iterrows():\n",
    "    document = {\n",
    "        \"product_name\": ''.join(row[\"Product Name\"]),\n",
    "        \"brand_name\": ''.join(row[\"Brand Name\"]),\n",
    "        \"asin\": ''.join(row[\"Asin\"]),\n",
    "        \"category\": ''.join(row[\"Category\"]),\n",
    "        \"upc_ean_code\": ''.join(row[\"Upc Ean Code\"]),\n",
    "        \"list_price\": ''.join(row[\"List Price\"]),\n",
    "        \"selling_price\": row[\"Selling Price\"].replace(\"$\",\"\"),\n",
    "        \"quantity\": ''.join(row[\"Quantity\"]),\n",
    "        \"model_number\": ''.join(row[\"Model Number\"]),\n",
    "        \"about_product\": row[\"About Product\"].replace(\"Make sure this fits by entering your model number.\",\"\"),\n",
    "        \"product_specification\": ''.join(row[\"Product Specification\"]),\n",
    "        \"technical_details\": ''.join(row[\"Technical Details\"]),\n",
    "        \"shipping_weight\": ''.join(row[\"Shipping Weight\"]),\n",
    "        \"product_dimensions\": ''.join(row[\"Product Dimensions\"]),\n",
    "        \"image\": ''.join(row[\"Image\"]),\n",
    "        \"variants\": ''.join(row[\"Variants\"]),\n",
    "        \"sku\": ''.join(row[\"Sku\"]),\n",
    "        \"product_url\": ''.join(row[\"Product Url\"]),\n",
    "        \"stock\": ''.join(row[\"Stock\"]),\n",
    "        \"product_details\": ''.join(row[\"Product Details\"]),\n",
    "        \"dimensions\": ''.join(row[\"Dimensions\"]),\n",
    "        \"color\": ''.join(row[\"Color\"]),\n",
    "        \"ingredients\": ''.join(row[\"Ingredients\"]),\n",
    "        \"direction_to_use\": ''.join(row[\"Direction To Use\"]),\n",
    "        \"is_amazon_seller\": ''.join(row[\"Is Amazon Seller\"]),\n",
    "        \"size_quantity_variant\": ''.join(row[\"Size Quantity Variant\"]),\n",
    "        \"product_description\": ''.join(row[\"Product Description\"])\n",
    "    }\n",
    "    res = es.index(index=\"amazon_products\", document=document)"
   ]
  },
  {
   "cell_type": "markdown",
   "metadata": {},
   "source": [
    "Create the Flask app"
   ]
  },
  {
   "cell_type": "code",
   "execution_count": 130,
   "metadata": {},
   "outputs": [
    {
     "data": {
      "text/plain": [
       "ObjectApiResponse({'took': 176, 'timed_out': False, '_shards': {'total': 1, 'successful': 1, 'skipped': 0, 'failed': 0}, 'hits': {'total': {'value': 88, 'relation': 'eq'}, 'max_score': 9.048491, 'hits': [{'_index': 'amazon_products', '_id': 'Qm1k64QBqO1y_XCjGNNQ', '_score': 9.048491, '_source': {'product_name': 'Fisher-Price Musical Smart Phone', 'brand_name': 'N/A', 'asin': 'N/A', 'category': 'Toys & Games | Baby & Toddler Toys | Musical Toys', 'upc_ean_code': 'N/A', 'list_price': 'N/A', 'selling_price': '$4.99', 'quantity': 'N/A', 'model_number': 'N/A', 'about_product': 'Say “hello” to the updated Smart Phone design | Press button for realistic sounds & fun music | Icons rotate! | Who’s that? “Selfie” mirror invites self-discovery | Fine-motor-skill building activities', 'product_specification': 'N/A', 'technical_details': 'N/A', 'shipping_weight': 'N/A', 'product_dimensions': 'N/A', 'image': 'https://images-na.ssl-images-amazon.com/images/I/31VRsgWVSIL.jpg|https://images-na.ssl-images-amazon.com/images/I/317BnFrexCL.jpg|https://images-na.ssl-images-amazon.com/images/I/31UAa36nFpL.jpg|https://images-na.ssl-images-amazon.com/images/I/413fIpz9ojL.jpg|https://images-na.ssl-images-amazon.com/images/I/41kJqq14C0L.jpg|https://images-na.ssl-images-amazon.com/images/I/31J2ddQmJsL.jpg|https://images-na.ssl-images-amazon.com/images/G/01/x-locale/common/transparent-pixel.jpg', 'variants': 'N/A', 'sku': 'N/A', 'product_url': 'https://www.amazon.com/Fisher-Price-DFP50-Musical-Smart-Phone/dp/B014D4I9HO', 'stock': 'N/A', 'product_details': 'N/A', 'dimensions': 'N/A', 'color': 'N/A', 'ingredients': 'N/A', 'direction_to_use': 'N/A', 'is_amazon_seller': 'Y', 'size_quantity_variant': 'N/A', 'product_description': 'N/A'}}, {'_index': 'amazon_products', '_id': '3m1j64QBqO1y_XCj8s-W', '_score': 8.243049, '_source': {'product_name': 'VTech Touch and Swipe Baby Phone, Blue', 'brand_name': 'N/A', 'asin': 'N/A', 'category': \"Toys & Games | Kids' Electronics | Electronic Learning Toys\", 'upc_ean_code': 'N/A', 'list_price': 'N/A', 'selling_price': '$12.49', 'quantity': 'N/A', 'model_number': '80-146189', 'about_product': 'Make sure this fits by entering your model number. | Touch screen kids phone with 12 light-up pretend apps including pretend calendar, clock, and weather | The 12 included apps respond to touch and light up; toggle between the app screen and the Music mode screen using the slide at the bottom of the pretend phone | Home button saves your phone number so toddlers can pretend to call home; 15 melodies, different phrases and sing along songs keep kids engaged | Educational kids toy introduces role-play and hand eye coordination for your children; songs help teach ABCs, 123s and first words | Baby phone is designed for 6 month to 3 year olds and is not moisture proof; required 2 AAA batteries. Batteries included for demo purposes only, new batteries recommended for regular use', 'product_specification': 'ProductDimensions:5.5x1x2.8inches|ItemWeight:8ounces|ShippingWeight:8ounces(Viewshippingratesandpolicies)|ASIN:B00OC76MGS|Itemmodelnumber:80-146189|Manufacturerrecommendedage:6month-3years|Batteries:2AAAbatteriesrequired.(included)', 'technical_details': 'Color:Blue \\xa0|\\xa0 Product Packaging:Standard Packaging show up to 2 reviews by default The Touch & Swipe Baby Phone by VTech captures your child\\'s imagination with their very own smartphone for role-play fun! Slide between screens for two modes of play on this educational toy with twelve light-up pretend learning apps or switch to Music mode to play fun melodies and sing-along songs. Vivid colors and a touch screen engage your child as they role-play by calling family, friends or even their stuffed animals. The \"Home\" button feature allows you to record and save your home number for learning. With a pretend calendar, clock and weather apps, your baby learns about the day while the touch screen and slider build hand/eye coordination. Your child will discover and explore with fun sounds and sing-along songs that introduce ABCs, 123s and first words. It\\'s realistic role-play fun and learning on the go! | 8 ounces (View shipping rates and policies)', 'shipping_weight': '8 ounces', 'product_dimensions': 'N/A', 'image': 'https://images-na.ssl-images-amazon.com/images/I/513ppxjHVFL.jpg|https://images-na.ssl-images-amazon.com/images/I/51FPTg4IFqL.jpg|https://images-na.ssl-images-amazon.com/images/I/51fNwaO500L.jpg|https://images-na.ssl-images-amazon.com/images/I/51vGTW2cS3L.jpg|https://images-na.ssl-images-amazon.com/images/I/51ok-r7lCfL.jpg|https://images-na.ssl-images-amazon.com/images/I/510RmfcyaAL.jpg|https://images-na.ssl-images-amazon.com/images/I/315wnDXDrOS.jpg|https://images-na.ssl-images-amazon.com/images/G/01/x-locale/common/transparent-pixel.jpg', 'variants': 'https://www.amazon.com/VTech-Touch-Swipe-Baby-Phone/dp/B00OC76MGS|https://www.amazon.com/VTech-Touch-Swipe-Baby-Phone/dp/B00CS16EJU|https://www.amazon.com/VTech-Touch-Swipe-Baby-Phone/dp/B00HLAN5GS|https://www.amazon.com/VTech-Touch-Swipe-Baby-Phone/dp/B07QKZ4B79|https://www.amazon.com/VTech-Touch-Swipe-Baby-Phone/dp/B00OC76MGS', 'sku': 'N/A', 'product_url': 'https://www.amazon.com/VTech-Touch-Swipe-Baby-Phone/dp/B00OC76MGS', 'stock': 'N/A', 'product_details': 'N/A', 'dimensions': 'N/A', 'color': 'N/A', 'ingredients': 'N/A', 'direction_to_use': 'N/A', 'is_amazon_seller': 'Y', 'size_quantity_variant': 'N/A', 'product_description': 'N/A'}}, {'_index': 'amazon_products', '_id': 'aW1k64QBqO1y_XCjOtab', '_score': 8.243049, '_source': {'product_name': 'Minnie Bow-Tique Why Hello! Cell Phone', 'brand_name': 'N/A', 'asin': 'N/A', 'category': 'Toys & Games | Dress Up & Pretend Play | Pretend Play', 'upc_ean_code': 'N/A', 'list_price': 'N/A', 'selling_price': '$8.49', 'quantity': 'N/A', 'model_number': '88063', 'about_product': \"Make sure this fits by entering your model number. | Minnie's happy helpers why Hello Cell phone | 8.25 inches tall | Role play\", 'product_specification': 'ProductDimensions:5.5x1.4x8.2inches|ItemWeight:3.84ounces|ShippingWeight:4ounces(Viewshippingratesandpolicies)|ASIN:B07BH6RM6M|Itemmodelnumber:88063|Manufacturerrecommendedage:36months-10years|Batteries:3LR44batteriesrequired.', 'technical_details': \"Go to your orders and start the return Select the ship method Ship it! | Go to your orders and start the return Select the ship method Ship it! | Minnie's happy helpers why Hello! Cell phone, 8.25 inches tall, role play | 4 ounces (View shipping rates and policies)\", 'shipping_weight': '4 ounces', 'product_dimensions': 'N/A', 'image': 'https://images-na.ssl-images-amazon.com/images/I/41xg-SkwoEL.jpg|https://images-na.ssl-images-amazon.com/images/I/51Yr5vMioQL.jpg|https://images-na.ssl-images-amazon.com/images/I/51TkNIjKkTL.jpg|https://images-na.ssl-images-amazon.com/images/I/31NMx80aoQL.jpg|https://images-na.ssl-images-amazon.com/images/G/01/x-locale/common/transparent-pixel.jpg', 'variants': 'N/A', 'sku': 'N/A', 'product_url': 'https://www.amazon.com/Minnie-Happy-Helpers-Hello-Phone/dp/B07BH6RM6M', 'stock': 'N/A', 'product_details': 'N/A', 'dimensions': 'N/A', 'color': 'N/A', 'ingredients': 'N/A', 'direction_to_use': 'N/A', 'is_amazon_seller': 'Y', 'size_quantity_variant': 'N/A', 'product_description': 'N/A'}}, {'_index': 'amazon_products', '_id': 'pG1k64QBqO1y_XCjoN-4', '_score': 8.243049, '_source': {'product_name': 'Infantino Flip and Peek Fun Phone, Pink', 'brand_name': 'N/A', 'asin': 'N/A', 'category': 'Toys & Games | Baby & Toddler Toys | Musical Toys', 'upc_ean_code': 'N/A', 'list_price': 'N/A', 'selling_price': '$9.20', 'quantity': 'N/A', 'model_number': 'N/A', 'about_product': 'Easy for little hands to grasp | Fun peek a boo mirror | Helps baby learn english and spanish', 'product_specification': 'N/A', 'technical_details': 'N/A', 'shipping_weight': 'N/A', 'product_dimensions': 'N/A', 'image': 'https://images-na.ssl-images-amazon.com/images/I/41GhM5NH%2BAL.jpg|https://images-na.ssl-images-amazon.com/images/I/411BcYjoVfL.jpg|https://images-na.ssl-images-amazon.com/images/I/41YC07nfpTL.jpg|https://images-na.ssl-images-amazon.com/images/G/01/x-locale/common/transparent-pixel.jpg', 'variants': 'https://www.amazon.com/Infantino-Flip-Phone-Discontinued-Manufacturer/dp/B0047WCINO|https://www.amazon.com/Infantino-Flip-Phone-Discontinued-Manufacturer/dp/B0047WAW50', 'sku': 'N/A', 'product_url': 'https://www.amazon.com/Infantino-Flip-Phone-Discontinued-Manufacturer/dp/B0047WAW50', 'stock': 'N/A', 'product_details': 'N/A', 'dimensions': 'N/A', 'color': 'N/A', 'ingredients': 'N/A', 'direction_to_use': 'N/A', 'is_amazon_seller': 'Y', 'size_quantity_variant': 'N/A', 'product_description': 'N/A'}}, {'_index': 'amazon_products', '_id': '_21l64QBqO1y_XCjK-vy', '_score': 8.143719, '_source': {'product_name': 'Disney Mickey Mouse Ice Cream D-Lish Treats Phone Charm', 'brand_name': 'N/A', 'asin': 'N/A', 'category': 'Cell Phones & Accessories | Accessories | Phone Charms', 'upc_ean_code': 'N/A', 'list_price': 'N/A', 'selling_price': '$8.25', 'quantity': 'N/A', 'model_number': '24988', 'about_product': 'Make sure this fits by entering your model number. | Delicious-looking phone charm | Makes an awesome gift | Earphone Jack dust Plug attachment | Phone strap attachment', 'product_specification': 'ProductDimensions:1.4x0.8x1.4inches|ItemWeight:0.8ounces|ShippingWeight:0.8ounces(Viewshippingratesandpolicies)|DomesticShipping:ItemcanbeshippedwithinU.S.|InternationalShipping:ThisitemcanbeshippedtoselectcountriesoutsideoftheU.S.LearnMore|ASIN:B00QLBQSWQ|Itemmodelnumber:24988|Manufacturerrecommendedage:4yearsandup', 'technical_details': 'Go to your orders and start the return Select the ship method Ship it! | Go to your orders and start the return Select the ship method Ship it! | show up to 2 reviews by default A cute and tasty-looking chocolate ice cream with sprinkles and a cherry on top. This charm is inspired by Disney Mickey Mouse. The ice cream scoop charm has a iconic Mickey Mouse ice cream ears. The charm comes with an earphone Jack dust plug and a phone strap attachment. | 0.8 ounces (View shipping rates and policies)', 'shipping_weight': '0.8 ounces', 'product_dimensions': 'N/A', 'image': 'https://images-na.ssl-images-amazon.com/images/I/41%2B6SP8FEaL.jpg|https://images-na.ssl-images-amazon.com/images/I/41%2BIiCpdR7L.jpg|https://images-na.ssl-images-amazon.com/images/G/01/x-locale/common/transparent-pixel.jpg', 'variants': 'N/A', 'sku': 'N/A', 'product_url': 'https://www.amazon.com/Disney-Mickey-Mouse-D-Lish-Treats/dp/B00QLBQSWQ', 'stock': 'N/A', 'product_details': 'N/A', 'dimensions': 'N/A', 'color': 'N/A', 'ingredients': 'N/A', 'direction_to_use': 'N/A', 'is_amazon_seller': 'Y', 'size_quantity_variant': 'N/A', 'product_description': 'N/A'}}, {'_index': 'amazon_products', '_id': 'PG1j64QBqO1y_XCjPsH1', '_score': 6.9973297, '_source': {'product_name': 'Fisher-Price #Selfie Fun Phone, Baby Rattle, Mirror and Teething Toy', 'brand_name': 'N/A', 'asin': 'N/A', 'category': 'Toys & Games | Baby & Toddler Toys | Activity Play Centers', 'upc_ean_code': 'N/A', 'list_price': 'N/A', 'selling_price': '$4.99', 'quantity': 'N/A', 'model_number': 'GJD46', 'about_product': 'This pretend smart phone is a baby rattle, mirror, and teething toy in one! | Large mirrored screen, perfect for tummy-time play | Turn the grip stand on the back for clicking sounds, shake for rattle beads, and press the “home” button for more fun sounds! | Pretend phone case is BPA-free for teething play | For babies ages 3 months and older', 'product_specification': 'N/A', 'technical_details': \"The Fisher-Price #Selfie Fun Phone is the perfect take-along activity toy for your hip newborn. This adorable pretend smart phone has a large mirror and realistic icons on the screen, a soft and textured bumper case for teething, a realistic grip stand on the back, and lots of exciting hands-on activities for your baby to discover. Your baby can click, rattle, turn and teethe all play time long with this take-along activity toy. Where development comes into play Sensory: A variety of fun sounds and a chewy bumper case engage your baby's auditory and tactile senses and encourages teething. Fine Motor: Grasping the phone and interacting with the activities helps strengthen your baby's dexterity.\", 'shipping_weight': '3.7 ounces', 'product_dimensions': 'N/A', 'image': 'https://images-na.ssl-images-amazon.com/images/I/41QnGfntPqL.jpg|https://images-na.ssl-images-amazon.com/images/I/51qpuC2Q5OL.jpg|https://images-na.ssl-images-amazon.com/images/I/51eCioTuLAL.jpg|https://images-na.ssl-images-amazon.com/images/I/51uPfRKiWJL.jpg|https://images-na.ssl-images-amazon.com/images/I/41l9QOZQc1L.jpg|https://images-na.ssl-images-amazon.com/images/I/51nLpSjuWvL.jpg|https://images-na.ssl-images-amazon.com/images/G/01/x-locale/common/transparent-pixel.jpg', 'variants': 'N/A', 'sku': 'N/A', 'product_url': 'https://www.amazon.com/Fisher-Price-Selfie-Rattle-Mirror-Teething/dp/B07WW26SQZ', 'stock': 'N/A', 'product_details': 'N/A', 'dimensions': 'N/A', 'color': 'N/A', 'ingredients': 'N/A', 'direction_to_use': 'N/A', 'is_amazon_seller': 'Y', 'size_quantity_variant': 'N/A', 'product_description': 'N/A'}}, {'_index': 'amazon_products', '_id': 'CW1j64QBqO1y_XCjhMbL', '_score': 6.9973297, '_source': {'product_name': 'Fisher-Price #Selfie Fun Phone, Baby Rattle, Mirror and Teething Toy', 'brand_name': 'N/A', 'asin': 'N/A', 'category': 'Toys & Games | Baby & Toddler Toys | Activity Play Centers', 'upc_ean_code': 'N/A', 'list_price': 'N/A', 'selling_price': '$4.99', 'quantity': 'N/A', 'model_number': 'GJD46', 'about_product': 'This pretend smart phone is a baby rattle, mirror, and teething toy in one! | Large mirrored screen, perfect for tummy-time play | Turn the grip stand on the back for clicking sounds, shake for rattle beads, and press the “home” button for more fun sounds! | Pretend phone case is BPA-free for teething play | For babies ages 3 months and older', 'product_specification': 'N/A', 'technical_details': \"The Fisher-Price #Selfie Fun Phone is the perfect take-along activity toy for your hip newborn. This adorable pretend smart phone has a large mirror and realistic icons on the screen, a soft and textured bumper case for teething, a realistic grip stand on the back, and lots of exciting hands-on activities for your baby to discover. Your baby can click, rattle, turn and teethe all play time long with this take-along activity toy. Where development comes into play Sensory: A variety of fun sounds and a chewy bumper case engage your baby's auditory and tactile senses and encourages teething. Fine Motor: Grasping the phone and interacting with the activities helps strengthen your baby's dexterity.\", 'shipping_weight': '3.7 ounces', 'product_dimensions': 'N/A', 'image': 'https://images-na.ssl-images-amazon.com/images/I/41QnGfntPqL.jpg|https://images-na.ssl-images-amazon.com/images/I/51qpuC2Q5OL.jpg|https://images-na.ssl-images-amazon.com/images/I/51eCioTuLAL.jpg|https://images-na.ssl-images-amazon.com/images/I/51uPfRKiWJL.jpg|https://images-na.ssl-images-amazon.com/images/I/41l9QOZQc1L.jpg|https://images-na.ssl-images-amazon.com/images/I/51nLpSjuWvL.jpg|https://images-na.ssl-images-amazon.com/images/G/01/x-locale/common/transparent-pixel.jpg', 'variants': 'N/A', 'sku': 'N/A', 'product_url': 'https://www.amazon.com/Fisher-Price-Selfie-Rattle-Mirror-Teething/dp/B07WW26SQZ', 'stock': 'N/A', 'product_details': 'N/A', 'dimensions': 'N/A', 'color': 'N/A', 'ingredients': 'N/A', 'direction_to_use': 'N/A', 'is_amazon_seller': 'Y', 'size_quantity_variant': 'N/A', 'product_description': 'N/A'}}, {'_index': 'amazon_products', '_id': 'yG1k64QBqO1y_XCjVNhi', '_score': 6.505745, '_source': {'product_name': 'Bachmann Industries Smart Phone Controlled Train Locomotive with L&N #549 HO Scale', 'brand_name': 'N/A', 'asin': 'N/A', 'category': 'Toys & Games | Hobbies | Trains & Accessories | Train Cars | Locomotives', 'upc_ean_code': 'N/A', 'list_price': 'N/A', 'selling_price': '$125.43', 'quantity': 'N/A', 'model_number': '57804', 'about_product': 'Control with phone or tablet (Android 4.3 or newer) Bluetooth 4-supported iPhone, iPad, iOS device: iPhone 4S, 5, 5C, 5S, 6, 6 plus, 7; iPad air, iPad mini, 3rd & 4th generation, iPod touch 5 or newer Wireless device not included -- operates from up to 100 feet away with Bluetooth Smart technology Realistic, dynamic engine sound broadcast through your Smart device Requires 16 volt DC or DCC track power for operation Ready to launch and use instantly after downloading the free Bachmann E-Z app from the Google play store or Apple app store', 'product_specification': 'ProductDimensions:8.8x1.3x1.8inches|ItemWeight:1pounds|ShippingWeight:2pounds(Viewshippingratesandpolicies)|DomesticShipping:ItemcanbeshippedwithinU.S.|InternationalShipping:ThisitemcanbeshippedtoselectcountriesoutsideoftheU.S.LearnMore|ASIN:B01LWWAQ3Y|Itemmodelnumber:57804|Manufacturerrecommendedage:14yearsandup', 'technical_details': '2 pounds (View shipping rates and policies) | show up to 2 reviews by default E-Z App Smart Phone Controlled ALCO 2-6-0 Mogul Steam Locomotive - L&N #549 - HO Scale. The 2-6-0 mogul steam locomotive was developed as a replacement for the 4-4-0 \"American\" locomotive which was the standard loco on railroads during the better part of the 19th century. Moguls saw service from the late 19th century through the 1920s with many lines using them until the end of the steam era. Introducing our first E-Z App-equipped steam locomotive! Enjoy wireless touch-screen control of this 2-6-0 through your Bluetooth 4-supported Android or Apple smart device. Now you can have speed, direction, lighting, and sound control at your fingertips using your Android or Apple smart device and the FREE E-Z App-download. This EZ App steam locomotive features a die-cast chassis, metal valve gear and side rods, operating LED headlight and backup light, metal handrails, metal wheels and E-Z Mate Mark II couplers.', 'shipping_weight': '2 pounds', 'product_dimensions': 'N/A', 'image': 'https://images-na.ssl-images-amazon.com/images/I/31X%2BflE%2Bf%2BL.jpg|https://images-na.ssl-images-amazon.com/images/I/31AcxwslvpL.jpg|https://images-na.ssl-images-amazon.com/images/I/21n%2Bb7x29gL.jpg|https://images-na.ssl-images-amazon.com/images/G/01/x-locale/common/transparent-pixel.jpg', 'variants': 'N/A', 'sku': 'N/A', 'product_url': 'https://www.amazon.com/Bachmann-Industries-Smart-Controlled-Locomotive/dp/B01LWWAQ3Y', 'stock': 'N/A', 'product_details': 'N/A', 'dimensions': 'N/A', 'color': 'N/A', 'ingredients': 'N/A', 'direction_to_use': 'N/A', 'is_amazon_seller': 'Y', 'size_quantity_variant': 'N/A', 'product_description': 'N/A'}}, {'_index': 'amazon_products', '_id': 'mW1k64QBqO1y_XCjld5_', '_score': 6.3654127, '_source': {'product_name': 'Infantino Noodling Smarty Phonebook', 'brand_name': 'N/A', 'asin': 'N/A', 'category': \"Toys & Games | Kids' Furniture, Décor & Storage\", 'upc_ean_code': 'N/A', 'list_price': 'N/A', 'selling_price': '$9.90', 'quantity': 'N/A', 'model_number': '212-001', 'about_product': 'Age grade 6-36 months | Two magical modes-Pretend Phone and Mini Book | Teaches Letters, Numbers and Shapes | 4 original songs, 43 encouraging phrases and 6 fun sound effect', 'product_specification': 'N/A', 'technical_details': 'This fun phone book is filled with surprises. A large mirror and interactive buttons on the front are prefect for imaginative phone play. Make a call or take a picture. Open the phone book pages to activate learning content, as the phone reads a simple story and prompts children to discover shapes, colors and numbers. Features 4 original songs, 43 encouraging phrases and 6 fun sound effects.', 'shipping_weight': '7.8 ounces', 'product_dimensions': 'N/A', 'image': 'https://images-na.ssl-images-amazon.com/images/I/41OtGnD-UaL.jpg|https://images-na.ssl-images-amazon.com/images/I/51p92lk8F9L.jpg|https://images-na.ssl-images-amazon.com/images/I/51nhjt4xh2L.jpg|https://images-na.ssl-images-amazon.com/images/I/517gcVm0URL.jpg|https://images-na.ssl-images-amazon.com/images/I/518XJlnrVwL.jpg|https://images-na.ssl-images-amazon.com/images/I/312Aixgem5L.jpg|https://images-na.ssl-images-amazon.com/images/I/61b2sqGOUQL.jpg|https://images-na.ssl-images-amazon.com/images/G/01/x-locale/common/transparent-pixel.jpg', 'variants': 'N/A', 'sku': 'N/A', 'product_url': 'https://www.amazon.com/Infantino-212-001-Noodling-Smarty-Phonebook/dp/B01N645YV1', 'stock': 'N/A', 'product_details': 'N/A', 'dimensions': 'N/A', 'color': 'N/A', 'ingredients': 'N/A', 'direction_to_use': 'N/A', 'is_amazon_seller': 'Y', 'size_quantity_variant': 'N/A', 'product_description': 'N/A'}}, {'_index': 'amazon_products', '_id': 'jG1k64QBqO1y_XCjrOAi', '_score': 6.1905518, '_source': {'product_name': \"Minnie's Happy Helpers Bag Set, Pink\", 'brand_name': 'N/A', 'asin': 'N/A', 'category': 'Toys & Games | Dress Up & Pretend Play | Pretend Play', 'upc_ean_code': 'N/A', 'list_price': 'N/A', 'selling_price': '$15.99', 'quantity': 'N/A', 'model_number': '89360', 'about_product': 'Make sure this fits by entering your model number. | Pink bag as seen in Disney Junior’s Minnie’s Happy Helpers | Includes a light and sounds cell phone that reveals the next Happy Helpers mission | Comes with 9 accessories including: a light and sounds cell phone, pair of heart shaped sunglasses, bracelet with 2 pop in charms, pretend passport and passport holder, pretend boarding pass, and sticker sheet | Charms pop off Minnie’s bag and can be snapped into the bracelet for a customizable accessory | Requires 3 x AG13 batteries (included) | Ages 3+', 'product_specification': 'ProductDimensions:16.5x3.5x13inches|ItemWeight:1.8pounds|ShippingWeight:1.98pounds(Viewshippingratesandpolicies)|DomesticShipping:ItemcanbeshippedwithinU.S.|InternationalShipping:ThisitemcanbeshippedtoselectcountriesoutsideoftheU.S.LearnMore|ASIN:B01L8VXTIO|Itemmodelnumber:89360|Manufacturerrecommendedage:36months-10years|Batteries:3LR44batteriesrequired.(included)', 'technical_details': 'Go to your orders and start the return Select the ship method Ship it! | Go to your orders and start the return Select the ship method Ship it! | Minnie’s Happy Helpers Bag Set has everything your little one needs to join Minnie and Daisy on their Happy Helper adventures.\\xa0 This adorable bag set comes with a light and sounds cell phone that reveals your next mission when you spin the dial and 8 other mission-ready accessories including a pair of heart-shaped sunglasses, a pretend passport and passport holder, a pretend boarding pass, a bracelet, and a sticker sheet.\\xa0 Two charms pop off Minnie’s bag and can be snapped into the bracelet for a customizable accessory.\\xa0 There’s no job too big for you and Minnie!\\xa0 Ages 3+ | 1.98 pounds (View shipping rates and policies)', 'shipping_weight': '1.98 pounds', 'product_dimensions': 'N/A', 'image': 'https://images-na.ssl-images-amazon.com/images/I/51sNih8RknL.jpg|https://images-na.ssl-images-amazon.com/images/I/515i6fMZ2PL.jpg|https://images-na.ssl-images-amazon.com/images/I/51FN83T8ggL.jpg|https://images-na.ssl-images-amazon.com/images/I/61CUzlJeaaL.jpg|https://images-na.ssl-images-amazon.com/images/G/01/x-locale/common/transparent-pixel.jpg', 'variants': 'N/A', 'sku': 'N/A', 'product_url': 'https://www.amazon.com/Minnies-Happy-Helpers-Bag-Pink/dp/B01L8VXTIO', 'stock': 'N/A', 'product_details': 'N/A', 'dimensions': 'N/A', 'color': 'N/A', 'ingredients': 'N/A', 'direction_to_use': 'N/A', 'is_amazon_seller': 'Y', 'size_quantity_variant': 'N/A', 'product_description': 'N/A'}}]}})"
      ]
     },
     "execution_count": 130,
     "metadata": {},
     "output_type": "execute_result"
    }
   ],
   "source": [
    "\n",
    "query = {\n",
    "        \"multi_match\" : {\n",
    "        \"query\":    \"phone\", \n",
    "        \"fields\": [ \"product_name\", \"about_product\" ] \n",
    "        }\n",
    "    }\n",
    "\n",
    "# 查询name包含python关键字的数据\n",
    "es.search(index=\"amazon_products\",query=query)"
   ]
  },
  {
   "cell_type": "code",
   "execution_count": 118,
   "metadata": {},
   "outputs": [
    {
     "name": "stdout",
     "output_type": "stream",
     "text": [
      "22\n"
     ]
    }
   ],
   "source": []
  },
  {
   "cell_type": "code",
   "execution_count": null,
   "metadata": {},
   "outputs": [],
   "source": []
  }
 ],
 "metadata": {
  "kernelspec": {
   "display_name": "Python 3 (ipykernel)",
   "language": "python",
   "name": "python3"
  },
  "language_info": {
   "codemirror_mode": {
    "name": "ipython",
    "version": 3
   },
   "file_extension": ".py",
   "mimetype": "text/x-python",
   "name": "python",
   "nbconvert_exporter": "python",
   "pygments_lexer": "ipython3",
   "version": "3.10.2"
  },
  "varInspector": {
   "cols": {
    "lenName": 16,
    "lenType": 16,
    "lenVar": 40
   },
   "kernels_config": {
    "python": {
     "delete_cmd_postfix": "",
     "delete_cmd_prefix": "del ",
     "library": "var_list.py",
     "varRefreshCmd": "print(var_dic_list())"
    },
    "r": {
     "delete_cmd_postfix": ") ",
     "delete_cmd_prefix": "rm(",
     "library": "var_list.r",
     "varRefreshCmd": "cat(var_dic_list()) "
    }
   },
   "types_to_exclude": [
    "module",
    "function",
    "builtin_function_or_method",
    "instance",
    "_Feature"
   ],
   "window_display": false
  }
 },
 "nbformat": 4,
 "nbformat_minor": 2
}
